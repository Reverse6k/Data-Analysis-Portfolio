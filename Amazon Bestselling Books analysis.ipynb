{
 "cells": [
  {
   "cell_type": "markdown",
   "id": "61170023",
   "metadata": {},
   "source": [
    "# Amazon Bestselling Books Analysis and Visualization\n",
    "\n",
    "### Author: Bryson Byrd\n",
    "### Last edited: November 19, 2022\n",
    "\n",
    "\n",
    "#### Source: https://www.kaggle.com/datasets/sootersaalu/amazon-top-50-bestselling-books-2009-2019"
   ]
  },
  {
   "cell_type": "code",
   "execution_count": 1,
   "id": "b7eb96cb",
   "metadata": {},
   "outputs": [],
   "source": [
    "import pandas as pd\n",
    "import numpy as np\n",
    "import matplotlib.pyplot as plt\n",
    "from sklearn import preprocessing"
   ]
  },
  {
   "cell_type": "code",
   "execution_count": 2,
   "id": "995ee361",
   "metadata": {},
   "outputs": [],
   "source": [
    "#import the data\n",
    "data = pd.read_csv('bestsellers with categories.csv')"
   ]
  },
  {
   "cell_type": "code",
   "execution_count": 3,
   "id": "5db8f285",
   "metadata": {},
   "outputs": [
    {
     "data": {
      "text/html": [
       "<div>\n",
       "<style scoped>\n",
       "    .dataframe tbody tr th:only-of-type {\n",
       "        vertical-align: middle;\n",
       "    }\n",
       "\n",
       "    .dataframe tbody tr th {\n",
       "        vertical-align: top;\n",
       "    }\n",
       "\n",
       "    .dataframe thead th {\n",
       "        text-align: right;\n",
       "    }\n",
       "</style>\n",
       "<table border=\"1\" class=\"dataframe\">\n",
       "  <thead>\n",
       "    <tr style=\"text-align: right;\">\n",
       "      <th></th>\n",
       "      <th>Name</th>\n",
       "      <th>Author</th>\n",
       "      <th>User Rating</th>\n",
       "      <th>Reviews</th>\n",
       "      <th>Price</th>\n",
       "      <th>Year</th>\n",
       "      <th>Genre</th>\n",
       "    </tr>\n",
       "  </thead>\n",
       "  <tbody>\n",
       "    <tr>\n",
       "      <th>0</th>\n",
       "      <td>10-Day Green Smoothie Cleanse</td>\n",
       "      <td>JJ Smith</td>\n",
       "      <td>4.7</td>\n",
       "      <td>17350</td>\n",
       "      <td>8</td>\n",
       "      <td>2016</td>\n",
       "      <td>Non Fiction</td>\n",
       "    </tr>\n",
       "    <tr>\n",
       "      <th>1</th>\n",
       "      <td>11/22/63: A Novel</td>\n",
       "      <td>Stephen King</td>\n",
       "      <td>4.6</td>\n",
       "      <td>2052</td>\n",
       "      <td>22</td>\n",
       "      <td>2011</td>\n",
       "      <td>Fiction</td>\n",
       "    </tr>\n",
       "    <tr>\n",
       "      <th>2</th>\n",
       "      <td>12 Rules for Life: An Antidote to Chaos</td>\n",
       "      <td>Jordan B. Peterson</td>\n",
       "      <td>4.7</td>\n",
       "      <td>18979</td>\n",
       "      <td>15</td>\n",
       "      <td>2018</td>\n",
       "      <td>Non Fiction</td>\n",
       "    </tr>\n",
       "    <tr>\n",
       "      <th>3</th>\n",
       "      <td>1984 (Signet Classics)</td>\n",
       "      <td>George Orwell</td>\n",
       "      <td>4.7</td>\n",
       "      <td>21424</td>\n",
       "      <td>6</td>\n",
       "      <td>2017</td>\n",
       "      <td>Fiction</td>\n",
       "    </tr>\n",
       "    <tr>\n",
       "      <th>4</th>\n",
       "      <td>5,000 Awesome Facts (About Everything!) (Natio...</td>\n",
       "      <td>National Geographic Kids</td>\n",
       "      <td>4.8</td>\n",
       "      <td>7665</td>\n",
       "      <td>12</td>\n",
       "      <td>2019</td>\n",
       "      <td>Non Fiction</td>\n",
       "    </tr>\n",
       "    <tr>\n",
       "      <th>5</th>\n",
       "      <td>A Dance with Dragons (A Song of Ice and Fire)</td>\n",
       "      <td>George R. R. Martin</td>\n",
       "      <td>4.4</td>\n",
       "      <td>12643</td>\n",
       "      <td>11</td>\n",
       "      <td>2011</td>\n",
       "      <td>Fiction</td>\n",
       "    </tr>\n",
       "    <tr>\n",
       "      <th>6</th>\n",
       "      <td>A Game of Thrones / A Clash of Kings / A Storm...</td>\n",
       "      <td>George R. R. Martin</td>\n",
       "      <td>4.7</td>\n",
       "      <td>19735</td>\n",
       "      <td>30</td>\n",
       "      <td>2014</td>\n",
       "      <td>Fiction</td>\n",
       "    </tr>\n",
       "    <tr>\n",
       "      <th>7</th>\n",
       "      <td>A Gentleman in Moscow: A Novel</td>\n",
       "      <td>Amor Towles</td>\n",
       "      <td>4.7</td>\n",
       "      <td>19699</td>\n",
       "      <td>15</td>\n",
       "      <td>2017</td>\n",
       "      <td>Fiction</td>\n",
       "    </tr>\n",
       "    <tr>\n",
       "      <th>8</th>\n",
       "      <td>A Higher Loyalty: Truth, Lies, and Leadership</td>\n",
       "      <td>James Comey</td>\n",
       "      <td>4.7</td>\n",
       "      <td>5983</td>\n",
       "      <td>3</td>\n",
       "      <td>2018</td>\n",
       "      <td>Non Fiction</td>\n",
       "    </tr>\n",
       "    <tr>\n",
       "      <th>9</th>\n",
       "      <td>A Man Called Ove: A Novel</td>\n",
       "      <td>Fredrik Backman</td>\n",
       "      <td>4.6</td>\n",
       "      <td>23848</td>\n",
       "      <td>8</td>\n",
       "      <td>2016</td>\n",
       "      <td>Fiction</td>\n",
       "    </tr>\n",
       "  </tbody>\n",
       "</table>\n",
       "</div>"
      ],
      "text/plain": [
       "                                                Name  \\\n",
       "0                      10-Day Green Smoothie Cleanse   \n",
       "1                                  11/22/63: A Novel   \n",
       "2            12 Rules for Life: An Antidote to Chaos   \n",
       "3                             1984 (Signet Classics)   \n",
       "4  5,000 Awesome Facts (About Everything!) (Natio...   \n",
       "5      A Dance with Dragons (A Song of Ice and Fire)   \n",
       "6  A Game of Thrones / A Clash of Kings / A Storm...   \n",
       "7                     A Gentleman in Moscow: A Novel   \n",
       "8      A Higher Loyalty: Truth, Lies, and Leadership   \n",
       "9                          A Man Called Ove: A Novel   \n",
       "\n",
       "                     Author  User Rating  Reviews  Price  Year        Genre  \n",
       "0                  JJ Smith          4.7    17350      8  2016  Non Fiction  \n",
       "1              Stephen King          4.6     2052     22  2011      Fiction  \n",
       "2        Jordan B. Peterson          4.7    18979     15  2018  Non Fiction  \n",
       "3             George Orwell          4.7    21424      6  2017      Fiction  \n",
       "4  National Geographic Kids          4.8     7665     12  2019  Non Fiction  \n",
       "5       George R. R. Martin          4.4    12643     11  2011      Fiction  \n",
       "6       George R. R. Martin          4.7    19735     30  2014      Fiction  \n",
       "7               Amor Towles          4.7    19699     15  2017      Fiction  \n",
       "8               James Comey          4.7     5983      3  2018  Non Fiction  \n",
       "9           Fredrik Backman          4.6    23848      8  2016      Fiction  "
      ]
     },
     "execution_count": 3,
     "metadata": {},
     "output_type": "execute_result"
    }
   ],
   "source": [
    "#print the first 10 listed books\n",
    "data.head(10)"
   ]
  },
  {
   "cell_type": "code",
   "execution_count": 4,
   "id": "0b0e3854",
   "metadata": {},
   "outputs": [
    {
     "data": {
      "text/html": [
       "<div>\n",
       "<style scoped>\n",
       "    .dataframe tbody tr th:only-of-type {\n",
       "        vertical-align: middle;\n",
       "    }\n",
       "\n",
       "    .dataframe tbody tr th {\n",
       "        vertical-align: top;\n",
       "    }\n",
       "\n",
       "    .dataframe thead th {\n",
       "        text-align: right;\n",
       "    }\n",
       "</style>\n",
       "<table border=\"1\" class=\"dataframe\">\n",
       "  <thead>\n",
       "    <tr style=\"text-align: right;\">\n",
       "      <th></th>\n",
       "      <th>Name</th>\n",
       "      <th>Author</th>\n",
       "      <th>User Rating</th>\n",
       "      <th>Reviews</th>\n",
       "      <th>Price</th>\n",
       "      <th>Year</th>\n",
       "      <th>Genre</th>\n",
       "    </tr>\n",
       "  </thead>\n",
       "  <tbody>\n",
       "    <tr>\n",
       "      <th>177</th>\n",
       "      <td>I, Alex Cross</td>\n",
       "      <td>James Patterson</td>\n",
       "      <td>4.6</td>\n",
       "      <td>1320</td>\n",
       "      <td>7</td>\n",
       "      <td>2009</td>\n",
       "      <td>Fiction</td>\n",
       "    </tr>\n",
       "    <tr>\n",
       "      <th>131</th>\n",
       "      <td>Glenn Beck's Common Sense: The Case Against an...</td>\n",
       "      <td>Glenn Beck</td>\n",
       "      <td>4.6</td>\n",
       "      <td>1365</td>\n",
       "      <td>11</td>\n",
       "      <td>2009</td>\n",
       "      <td>Non Fiction</td>\n",
       "    </tr>\n",
       "    <tr>\n",
       "      <th>417</th>\n",
       "      <td>The Last Lecture</td>\n",
       "      <td>Randy Pausch</td>\n",
       "      <td>4.7</td>\n",
       "      <td>4028</td>\n",
       "      <td>9</td>\n",
       "      <td>2009</td>\n",
       "      <td>Non Fiction</td>\n",
       "    </tr>\n",
       "    <tr>\n",
       "      <th>241</th>\n",
       "      <td>New Moon (The Twilight Saga)</td>\n",
       "      <td>Stephenie Meyer</td>\n",
       "      <td>4.6</td>\n",
       "      <td>5680</td>\n",
       "      <td>10</td>\n",
       "      <td>2009</td>\n",
       "      <td>Fiction</td>\n",
       "    </tr>\n",
       "    <tr>\n",
       "      <th>72</th>\n",
       "      <td>Diary of a Wimpy Kid: The Last Straw (Book 3)</td>\n",
       "      <td>Jeff Kinney</td>\n",
       "      <td>4.8</td>\n",
       "      <td>3837</td>\n",
       "      <td>15</td>\n",
       "      <td>2009</td>\n",
       "      <td>Fiction</td>\n",
       "    </tr>\n",
       "    <tr>\n",
       "      <th>...</th>\n",
       "      <td>...</td>\n",
       "      <td>...</td>\n",
       "      <td>...</td>\n",
       "      <td>...</td>\n",
       "      <td>...</td>\n",
       "      <td>...</td>\n",
       "      <td>...</td>\n",
       "    </tr>\n",
       "    <tr>\n",
       "      <th>150</th>\n",
       "      <td>Guts</td>\n",
       "      <td>Raina Telgemeier</td>\n",
       "      <td>4.8</td>\n",
       "      <td>5476</td>\n",
       "      <td>7</td>\n",
       "      <td>2019</td>\n",
       "      <td>Non Fiction</td>\n",
       "    </tr>\n",
       "    <tr>\n",
       "      <th>466</th>\n",
       "      <td>The Subtle Art of Not Giving a F*ck: A Counter...</td>\n",
       "      <td>Mark Manson</td>\n",
       "      <td>4.6</td>\n",
       "      <td>26490</td>\n",
       "      <td>15</td>\n",
       "      <td>2019</td>\n",
       "      <td>Non Fiction</td>\n",
       "    </tr>\n",
       "    <tr>\n",
       "      <th>462</th>\n",
       "      <td>The Silent Patient</td>\n",
       "      <td>Alex Michaelides</td>\n",
       "      <td>4.5</td>\n",
       "      <td>27536</td>\n",
       "      <td>14</td>\n",
       "      <td>2019</td>\n",
       "      <td>Fiction</td>\n",
       "    </tr>\n",
       "    <tr>\n",
       "      <th>130</th>\n",
       "      <td>Girl, Wash Your Face: Stop Believing the Lies ...</td>\n",
       "      <td>Rachel Hollis</td>\n",
       "      <td>4.6</td>\n",
       "      <td>22288</td>\n",
       "      <td>12</td>\n",
       "      <td>2019</td>\n",
       "      <td>Non Fiction</td>\n",
       "    </tr>\n",
       "    <tr>\n",
       "      <th>549</th>\n",
       "      <td>You Are a Badass: How to Stop Doubting Your Gr...</td>\n",
       "      <td>Jen Sincero</td>\n",
       "      <td>4.7</td>\n",
       "      <td>14331</td>\n",
       "      <td>8</td>\n",
       "      <td>2019</td>\n",
       "      <td>Non Fiction</td>\n",
       "    </tr>\n",
       "  </tbody>\n",
       "</table>\n",
       "<p>550 rows × 7 columns</p>\n",
       "</div>"
      ],
      "text/plain": [
       "                                                  Name            Author  \\\n",
       "177                                      I, Alex Cross   James Patterson   \n",
       "131  Glenn Beck's Common Sense: The Case Against an...        Glenn Beck   \n",
       "417                                   The Last Lecture      Randy Pausch   \n",
       "241                       New Moon (The Twilight Saga)   Stephenie Meyer   \n",
       "72       Diary of a Wimpy Kid: The Last Straw (Book 3)       Jeff Kinney   \n",
       "..                                                 ...               ...   \n",
       "150                                               Guts  Raina Telgemeier   \n",
       "466  The Subtle Art of Not Giving a F*ck: A Counter...       Mark Manson   \n",
       "462                                 The Silent Patient  Alex Michaelides   \n",
       "130  Girl, Wash Your Face: Stop Believing the Lies ...     Rachel Hollis   \n",
       "549  You Are a Badass: How to Stop Doubting Your Gr...       Jen Sincero   \n",
       "\n",
       "     User Rating  Reviews  Price  Year        Genre  \n",
       "177          4.6     1320      7  2009      Fiction  \n",
       "131          4.6     1365     11  2009  Non Fiction  \n",
       "417          4.7     4028      9  2009  Non Fiction  \n",
       "241          4.6     5680     10  2009      Fiction  \n",
       "72           4.8     3837     15  2009      Fiction  \n",
       "..           ...      ...    ...   ...          ...  \n",
       "150          4.8     5476      7  2019  Non Fiction  \n",
       "466          4.6    26490     15  2019  Non Fiction  \n",
       "462          4.5    27536     14  2019      Fiction  \n",
       "130          4.6    22288     12  2019  Non Fiction  \n",
       "549          4.7    14331      8  2019  Non Fiction  \n",
       "\n",
       "[550 rows x 7 columns]"
      ]
     },
     "execution_count": 4,
     "metadata": {},
     "output_type": "execute_result"
    }
   ],
   "source": [
    "#sort the list by year\n",
    "data.sort_values(['Year'], ascending = True)"
   ]
  },
  {
   "cell_type": "code",
   "execution_count": 5,
   "id": "42e06c9d",
   "metadata": {},
   "outputs": [
    {
     "data": {
      "text/plain": [
       "Text(0.5, 1.0, 'Amazon Best Sellers by Genre')"
      ]
     },
     "execution_count": 5,
     "metadata": {},
     "output_type": "execute_result"
    },
    {
     "data": {
      "image/png": "[encoded data removed]",
      "text/plain": [
       "<Figure size 360x360 with 1 Axes>"
      ]
     },
     "metadata": {},
     "output_type": "display_data"
    }
   ],
   "source": [
    "#plot the gerne split\n",
    "Genre = data.groupby('Genre')['Genre'].count()\n",
    "\n",
    "Genre.plot.pie(figsize = (5,5))\n",
    "plt.title('Amazon Best Sellers by Genre')"
   ]
  },
  {
   "cell_type": "code",
   "execution_count": 50,
   "id": "8eb38b3e",
   "metadata": {},
   "outputs": [
    {
     "data": {
      "text/plain": [
       "Text(0, 0.5, 'Price ($USD)')"
      ]
     },
     "execution_count": 50,
     "metadata": {},
     "output_type": "execute_result"
    },
    {
     "data": {
      "image/png": "[encoded data removed]",
      "text/plain": [
       "<Figure size 1080x360 with 1 Axes>"
      ]
     },
     "metadata": {
      "needs_background": "light"
     },
     "output_type": "display_data"
    }
   ],
   "source": [
    "#look at the price data for the best sellers\n",
    "price = pd.DataFrame()\n",
    "price['Average'] = data.groupby('Year').Price.mean()\n",
    "\n",
    "price.Average.plot(kind = 'bar',figsize = (15,5))\n",
    "plt.title('Average Price of Best Seller')\n",
    "plt.ylabel('Price ($USD)')"
   ]
  },
  {
   "cell_type": "code",
   "execution_count": 49,
   "id": "b0f3aa94",
   "metadata": {},
   "outputs": [
    {
     "data": {
      "text/plain": [
       "Text(0.5, 1.0, 'Top 10 Best Selling Authors')"
      ]
     },
     "execution_count": 49,
     "metadata": {},
     "output_type": "execute_result"
    },
    {
     "data": {
      "image/png": "[encoded data removed]",
      "text/plain": [
       "<Figure size 1080x360 with 1 Axes>"
      ]
     },
     "metadata": {
      "needs_background": "light"
     },
     "output_type": "display_data"
    }
   ],
   "source": [
    "#Top ten best selling artist by how many books on list\n",
    "num_uniquebooks = data.groupby('Author').Name.nunique().sort_values(ascending= False)\n",
    "\n",
    "num_uniquebooks.head(10).plot(kind = 'bar', figsize = (15,5))\n",
    "plt.ylabel('Number of Books')\n",
    "plt.title('Top 10 Best Selling Authors')"
   ]
  },
  {
   "cell_type": "code",
   "execution_count": 55,
   "id": "85763701",
   "metadata": {},
   "outputs": [
    {
     "data": {
      "image/png": "[encoded data removed]",
      "text/plain": [
       "<Figure size 1080x360 with 1 Axes>"
      ]
     },
     "metadata": {
      "needs_background": "light"
     },
     "output_type": "display_data"
    }
   ],
   "source": [
    "#some books are counted multiple times (best sellers for multiple years)\n",
    "#some data cleaning to only show unique books\n",
    "reviews = pd.DataFrame(columns =['Name','Author','User Rating','Reviews'], data = data[['Name','Author','User Rating','Reviews']].values)\n",
    "reviews.reset_index()\n",
    "reviews = reviews.drop_duplicates()\n",
    "reviews = reviews.sort_values('Reviews', ascending = False)\n",
    "\n",
    "name = list(reviews.Name)\n",
    "author = list(reviews.Author)\n",
    "\n",
    "#create labels that include title and author of best seller\n",
    "label = [x +' ,'+ y for x,y in zip(name,author)]\n",
    "label = label[:10]\n",
    "\n",
    "#plot the data\n",
    "fig = reviews.head(10).plot(kind = 'bar', figsize = (15,5), color = '#1f77b4')\n",
    "fig.set_xticklabels(label)\n",
    "plt.title('Top 10 Most Reviewed Best Sellers')\n",
    "plt.ylabel('Number of Reviews')\n",
    "plt.xlabel('Title and Author')\n",
    "plt.legend().set_visible(False)"
   ]
  },
  {
   "cell_type": "markdown",
   "id": "e9372f8c",
   "metadata": {},
   "source": [
    "### Popularity: \n",
    "\n",
    "A metric calculated from the amount of reviews for a book on the list and the average 'User Rating' that that book receives. To make the metric more 'fair' (less weighted toward the sheer amount of reviews given), we want to normalize the 'Reviews' count.\n",
    "We will use the proprocessing library from Sklearn to accomplish this."
   ]
  },
  {
   "cell_type": "code",
   "execution_count": 43,
   "id": "109be4f4",
   "metadata": {},
   "outputs": [
    {
     "data": {
      "text/html": [
       "<div>\n",
       "<style scoped>\n",
       "    .dataframe tbody tr th:only-of-type {\n",
       "        vertical-align: middle;\n",
       "    }\n",
       "\n",
       "    .dataframe tbody tr th {\n",
       "        vertical-align: top;\n",
       "    }\n",
       "\n",
       "    .dataframe thead th {\n",
       "        text-align: right;\n",
       "    }\n",
       "</style>\n",
       "<table border=\"1\" class=\"dataframe\">\n",
       "  <thead>\n",
       "    <tr style=\"text-align: right;\">\n",
       "      <th></th>\n",
       "      <th>Norm User Rating</th>\n",
       "      <th>Norm Reviews</th>\n",
       "    </tr>\n",
       "  </thead>\n",
       "  <tbody>\n",
       "    <tr>\n",
       "      <th>0</th>\n",
       "      <td>0.9375</td>\n",
       "      <td>1.000000</td>\n",
       "    </tr>\n",
       "    <tr>\n",
       "      <th>1</th>\n",
       "      <td>0.5000</td>\n",
       "      <td>0.904389</td>\n",
       "    </tr>\n",
       "    <tr>\n",
       "      <th>2</th>\n",
       "      <td>0.9375</td>\n",
       "      <td>0.695823</td>\n",
       "    </tr>\n",
       "    <tr>\n",
       "      <th>3</th>\n",
       "      <td>0.8750</td>\n",
       "      <td>0.574518</td>\n",
       "    </tr>\n",
       "    <tr>\n",
       "      <th>4</th>\n",
       "      <td>0.9375</td>\n",
       "      <td>0.560920</td>\n",
       "    </tr>\n",
       "  </tbody>\n",
       "</table>\n",
       "</div>"
      ],
      "text/plain": [
       "   Norm User Rating  Norm Reviews\n",
       "0            0.9375      1.000000\n",
       "1            0.5000      0.904389\n",
       "2            0.9375      0.695823\n",
       "3            0.8750      0.574518\n",
       "4            0.9375      0.560920"
      ]
     },
     "execution_count": 43,
     "metadata": {},
     "output_type": "execute_result"
    }
   ],
   "source": [
    "normreviews = reviews.loc[:,['User Rating','Reviews']]\n",
    "scaler = preprocessing.MinMaxScaler()\n",
    "names = ['Norm User Rating', 'Norm Reviews']\n",
    "d = scaler.fit_transform(normreviews)\n",
    "scaled_reviews = pd.DataFrame(d, columns=names)\n",
    "scaled_reviews.head()"
   ]
  },
  {
   "cell_type": "code",
   "execution_count": 27,
   "id": "86577a69",
   "metadata": {},
   "outputs": [],
   "source": [
    "#We have to reset the index of each dataframe so element-wise multiplication doesn't result in NaN values.\n",
    "reviews.reset_index(drop=True, inplace=True)\n",
    "scaled_reviews.reset_index(drop=True, inplace=True)"
   ]
  },
  {
   "cell_type": "code",
   "execution_count": 42,
   "id": "1f151df0",
   "metadata": {},
   "outputs": [
    {
     "data": {
      "text/html": [
       "<div>\n",
       "<style scoped>\n",
       "    .dataframe tbody tr th:only-of-type {\n",
       "        vertical-align: middle;\n",
       "    }\n",
       "\n",
       "    .dataframe tbody tr th {\n",
       "        vertical-align: top;\n",
       "    }\n",
       "\n",
       "    .dataframe thead th {\n",
       "        text-align: right;\n",
       "    }\n",
       "</style>\n",
       "<table border=\"1\" class=\"dataframe\">\n",
       "  <thead>\n",
       "    <tr style=\"text-align: right;\">\n",
       "      <th></th>\n",
       "      <th>Name</th>\n",
       "      <th>Author</th>\n",
       "      <th>User Rating</th>\n",
       "      <th>Reviews</th>\n",
       "      <th>Popularity</th>\n",
       "    </tr>\n",
       "  </thead>\n",
       "  <tbody>\n",
       "    <tr>\n",
       "      <th>0</th>\n",
       "      <td>Where the Crawdads Sing</td>\n",
       "      <td>Delia Owens</td>\n",
       "      <td>4.8</td>\n",
       "      <td>87841</td>\n",
       "      <td>4.8</td>\n",
       "    </tr>\n",
       "    <tr>\n",
       "      <th>1</th>\n",
       "      <td>The Girl on the Train</td>\n",
       "      <td>Paula Hawkins</td>\n",
       "      <td>4.1</td>\n",
       "      <td>79446</td>\n",
       "      <td>3.707996</td>\n",
       "    </tr>\n",
       "    <tr>\n",
       "      <th>2</th>\n",
       "      <td>Becoming</td>\n",
       "      <td>Michelle Obama</td>\n",
       "      <td>4.8</td>\n",
       "      <td>61133</td>\n",
       "      <td>3.339948</td>\n",
       "    </tr>\n",
       "    <tr>\n",
       "      <th>4</th>\n",
       "      <td>The Fault in Our Stars</td>\n",
       "      <td>John Green</td>\n",
       "      <td>4.7</td>\n",
       "      <td>50482</td>\n",
       "      <td>2.700236</td>\n",
       "    </tr>\n",
       "    <tr>\n",
       "      <th>5</th>\n",
       "      <td>The Nightingale: A Novel</td>\n",
       "      <td>Kristin Hannah</td>\n",
       "      <td>4.8</td>\n",
       "      <td>49288</td>\n",
       "      <td>2.692415</td>\n",
       "    </tr>\n",
       "    <tr>\n",
       "      <th>3</th>\n",
       "      <td>Gone Girl</td>\n",
       "      <td>Gillian Flynn</td>\n",
       "      <td>4.0</td>\n",
       "      <td>57271</td>\n",
       "      <td>2.607353</td>\n",
       "    </tr>\n",
       "    <tr>\n",
       "      <th>7</th>\n",
       "      <td>The Martian</td>\n",
       "      <td>Andy Weir</td>\n",
       "      <td>4.7</td>\n",
       "      <td>39459</td>\n",
       "      <td>2.110193</td>\n",
       "    </tr>\n",
       "    <tr>\n",
       "      <th>6</th>\n",
       "      <td>Fifty Shades of Grey: Book One of the Fifty Sh...</td>\n",
       "      <td>E L James</td>\n",
       "      <td>3.8</td>\n",
       "      <td>47265</td>\n",
       "      <td>2.043943</td>\n",
       "    </tr>\n",
       "    <tr>\n",
       "      <th>9</th>\n",
       "      <td>The Alchemist</td>\n",
       "      <td>Paulo Coelho</td>\n",
       "      <td>4.7</td>\n",
       "      <td>35799</td>\n",
       "      <td>1.91428</td>\n",
       "    </tr>\n",
       "    <tr>\n",
       "      <th>8</th>\n",
       "      <td>All the Light We Cannot See</td>\n",
       "      <td>Anthony Doerr</td>\n",
       "      <td>4.6</td>\n",
       "      <td>36348</td>\n",
       "      <td>1.902312</td>\n",
       "    </tr>\n",
       "  </tbody>\n",
       "</table>\n",
       "</div>"
      ],
      "text/plain": [
       "                                                Name          Author  \\\n",
       "0                            Where the Crawdads Sing     Delia Owens   \n",
       "1                              The Girl on the Train   Paula Hawkins   \n",
       "2                                           Becoming  Michelle Obama   \n",
       "4                             The Fault in Our Stars      John Green   \n",
       "5                           The Nightingale: A Novel  Kristin Hannah   \n",
       "3                                          Gone Girl   Gillian Flynn   \n",
       "7                                        The Martian       Andy Weir   \n",
       "6  Fifty Shades of Grey: Book One of the Fifty Sh...       E L James   \n",
       "9                                      The Alchemist    Paulo Coelho   \n",
       "8                        All the Light We Cannot See   Anthony Doerr   \n",
       "\n",
       "  User Rating Reviews Popularity  \n",
       "0         4.8   87841        4.8  \n",
       "1         4.1   79446   3.707996  \n",
       "2         4.8   61133   3.339948  \n",
       "4         4.7   50482   2.700236  \n",
       "5         4.8   49288   2.692415  \n",
       "3         4.0   57271   2.607353  \n",
       "7         4.7   39459   2.110193  \n",
       "6         3.8   47265   2.043943  \n",
       "9         4.7   35799    1.91428  \n",
       "8         4.6   36348   1.902312  "
      ]
     },
     "execution_count": 42,
     "metadata": {},
     "output_type": "execute_result"
    }
   ],
   "source": [
    "#Popularity calculation\n",
    "reviews['Popularity'] = scaled_reviews['Norm Reviews'] *reviews['User Rating'] \n",
    "reviews = reviews.sort_values('Popularity', ascending = False)\n",
    "reviews.head(10)"
   ]
  },
  {
   "cell_type": "code",
   "execution_count": 38,
   "id": "22940e23",
   "metadata": {},
   "outputs": [
    {
     "data": {
      "text/plain": [
       "Text(0.5, 0, 'Title and Author')"
      ]
     },
     "execution_count": 38,
     "metadata": {},
     "output_type": "execute_result"
    },
    {
     "data": {
      "image/png": "[encoded data removed]",
      "text/plain": [
       "<Figure size 1080x360 with 1 Axes>"
      ]
     },
     "metadata": {
      "needs_background": "light"
     },
     "output_type": "display_data"
    }
   ],
   "source": [
    "#Plotting Top 10 most popular books\n",
    "name = list(reviews.Name)\n",
    "author = list(reviews.Author)\n",
    "\n",
    "#create labels that include title and author of best seller\n",
    "label = [x +' ,'+ y for x,y in zip(name,author)]\n",
    "label = label[:10]\n",
    "\n",
    "fig = reviews.Popularity.head(10).plot(kind = 'bar', figsize = (15,5))\n",
    "fig.set_xticklabels(label)\n",
    "plt.title('Top 10 Most Popular Best Sellers')\n",
    "plt.ylabel('Popularity')\n",
    "plt.xlabel('Title and Author')"
   ]
  }
 ],
 "metadata": {
  "kernelspec": {
   "display_name": "Python 3 (ipykernel)",
   "language": "python",
   "name": "python3"
  },
  "language_info": {
   "codemirror_mode": {
    "name": "ipython",
    "version": 3
   },
   "file_extension": ".py",
   "mimetype": "text/x-python",
   "name": "python",
   "nbconvert_exporter": "python",
   "pygments_lexer": "ipython3",
   "version": "3.9.12"
  }
 },
 "nbformat": 4,
 "nbformat_minor": 5
}
