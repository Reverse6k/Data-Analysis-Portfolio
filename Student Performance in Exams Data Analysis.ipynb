{
 "cells": [
  {
   "cell_type": "markdown",
   "id": "8673389d",
   "metadata": {},
   "source": [
    "# Student Performance in Exams\n",
    "\n",
    "### Author: Bryson Byrd\n",
    "### Last edited: November 22, 2022\n",
    "\n",
    "#### Source: https://www.kaggle.com/code/spscientist/student-performance-in-exams/data"
   ]
  },
  {
   "cell_type": "markdown",
   "id": "683a8645",
   "metadata": {},
   "source": [
    "# Introduction\n",
    "\n",
    "   This is a quick analysis on student performance on stardardized tests using different demographic metrics. The purpose of this analysis is to clean the data and to visualize the effects of different metrics with test scores and to quantify the differnce. "
   ]
  },
  {
   "cell_type": "code",
   "execution_count": 38,
   "id": "f651bd80",
   "metadata": {},
   "outputs": [],
   "source": [
    "#import libraries\n",
    "import pandas as pd\n",
    "import numpy as np\n",
    "import matplotlib.pyplot as plt"
   ]
  },
  {
   "cell_type": "code",
   "execution_count": 99,
   "id": "311dbebc",
   "metadata": {},
   "outputs": [
    {
     "data": {
      "text/html": [
       "<div>\n",
       "<style scoped>\n",
       "    .dataframe tbody tr th:only-of-type {\n",
       "        vertical-align: middle;\n",
       "    }\n",
       "\n",
       "    .dataframe tbody tr th {\n",
       "        vertical-align: top;\n",
       "    }\n",
       "\n",
       "    .dataframe thead th {\n",
       "        text-align: right;\n",
       "    }\n",
       "</style>\n",
       "<table border=\"1\" class=\"dataframe\">\n",
       "  <thead>\n",
       "    <tr style=\"text-align: right;\">\n",
       "      <th></th>\n",
       "      <th>math score</th>\n",
       "      <th>reading score</th>\n",
       "      <th>writing score</th>\n",
       "    </tr>\n",
       "  </thead>\n",
       "  <tbody>\n",
       "    <tr>\n",
       "      <th>count</th>\n",
       "      <td>1000.000000</td>\n",
       "      <td>1000.000000</td>\n",
       "      <td>1000.000000</td>\n",
       "    </tr>\n",
       "    <tr>\n",
       "      <th>mean</th>\n",
       "      <td>66.396000</td>\n",
       "      <td>69.002000</td>\n",
       "      <td>67.738000</td>\n",
       "    </tr>\n",
       "    <tr>\n",
       "      <th>std</th>\n",
       "      <td>15.402871</td>\n",
       "      <td>14.737272</td>\n",
       "      <td>15.600985</td>\n",
       "    </tr>\n",
       "    <tr>\n",
       "      <th>min</th>\n",
       "      <td>13.000000</td>\n",
       "      <td>27.000000</td>\n",
       "      <td>23.000000</td>\n",
       "    </tr>\n",
       "    <tr>\n",
       "      <th>25%</th>\n",
       "      <td>56.000000</td>\n",
       "      <td>60.000000</td>\n",
       "      <td>58.000000</td>\n",
       "    </tr>\n",
       "    <tr>\n",
       "      <th>50%</th>\n",
       "      <td>66.500000</td>\n",
       "      <td>70.000000</td>\n",
       "      <td>68.000000</td>\n",
       "    </tr>\n",
       "    <tr>\n",
       "      <th>75%</th>\n",
       "      <td>77.000000</td>\n",
       "      <td>79.000000</td>\n",
       "      <td>79.000000</td>\n",
       "    </tr>\n",
       "    <tr>\n",
       "      <th>max</th>\n",
       "      <td>100.000000</td>\n",
       "      <td>100.000000</td>\n",
       "      <td>100.000000</td>\n",
       "    </tr>\n",
       "  </tbody>\n",
       "</table>\n",
       "</div>"
      ],
      "text/plain": [
       "        math score  reading score  writing score\n",
       "count  1000.000000    1000.000000    1000.000000\n",
       "mean     66.396000      69.002000      67.738000\n",
       "std      15.402871      14.737272      15.600985\n",
       "min      13.000000      27.000000      23.000000\n",
       "25%      56.000000      60.000000      58.000000\n",
       "50%      66.500000      70.000000      68.000000\n",
       "75%      77.000000      79.000000      79.000000\n",
       "max     100.000000     100.000000     100.000000"
      ]
     },
     "execution_count": 99,
     "metadata": {},
     "output_type": "execute_result"
    }
   ],
   "source": [
    "#load in data\n",
    "exams = pd.read_csv('exams.csv')\n",
    "exams.describe()"
   ]
  },
  {
   "cell_type": "code",
   "execution_count": 100,
   "id": "a2164d4d",
   "metadata": {},
   "outputs": [
    {
     "data": {
      "text/html": [
       "<div>\n",
       "<style scoped>\n",
       "    .dataframe tbody tr th:only-of-type {\n",
       "        vertical-align: middle;\n",
       "    }\n",
       "\n",
       "    .dataframe tbody tr th {\n",
       "        vertical-align: top;\n",
       "    }\n",
       "\n",
       "    .dataframe thead th {\n",
       "        text-align: right;\n",
       "    }\n",
       "</style>\n",
       "<table border=\"1\" class=\"dataframe\">\n",
       "  <thead>\n",
       "    <tr style=\"text-align: right;\">\n",
       "      <th></th>\n",
       "      <th>gender</th>\n",
       "      <th>race/ethnicity</th>\n",
       "      <th>parental level of education</th>\n",
       "      <th>lunch</th>\n",
       "      <th>test preparation course</th>\n",
       "      <th>math score</th>\n",
       "      <th>reading score</th>\n",
       "      <th>writing score</th>\n",
       "    </tr>\n",
       "  </thead>\n",
       "  <tbody>\n",
       "    <tr>\n",
       "      <th>0</th>\n",
       "      <td>male</td>\n",
       "      <td>group A</td>\n",
       "      <td>high school</td>\n",
       "      <td>standard</td>\n",
       "      <td>completed</td>\n",
       "      <td>67</td>\n",
       "      <td>67</td>\n",
       "      <td>63</td>\n",
       "    </tr>\n",
       "    <tr>\n",
       "      <th>1</th>\n",
       "      <td>female</td>\n",
       "      <td>group D</td>\n",
       "      <td>some high school</td>\n",
       "      <td>free/reduced</td>\n",
       "      <td>none</td>\n",
       "      <td>40</td>\n",
       "      <td>59</td>\n",
       "      <td>55</td>\n",
       "    </tr>\n",
       "    <tr>\n",
       "      <th>2</th>\n",
       "      <td>male</td>\n",
       "      <td>group E</td>\n",
       "      <td>some college</td>\n",
       "      <td>free/reduced</td>\n",
       "      <td>none</td>\n",
       "      <td>59</td>\n",
       "      <td>60</td>\n",
       "      <td>50</td>\n",
       "    </tr>\n",
       "    <tr>\n",
       "      <th>3</th>\n",
       "      <td>male</td>\n",
       "      <td>group B</td>\n",
       "      <td>high school</td>\n",
       "      <td>standard</td>\n",
       "      <td>none</td>\n",
       "      <td>77</td>\n",
       "      <td>78</td>\n",
       "      <td>68</td>\n",
       "    </tr>\n",
       "    <tr>\n",
       "      <th>4</th>\n",
       "      <td>male</td>\n",
       "      <td>group E</td>\n",
       "      <td>associate's degree</td>\n",
       "      <td>standard</td>\n",
       "      <td>completed</td>\n",
       "      <td>78</td>\n",
       "      <td>73</td>\n",
       "      <td>68</td>\n",
       "    </tr>\n",
       "  </tbody>\n",
       "</table>\n",
       "</div>"
      ],
      "text/plain": [
       "   gender race/ethnicity parental level of education         lunch  \\\n",
       "0    male        group A                 high school      standard   \n",
       "1  female        group D            some high school  free/reduced   \n",
       "2    male        group E                some college  free/reduced   \n",
       "3    male        group B                 high school      standard   \n",
       "4    male        group E          associate's degree      standard   \n",
       "\n",
       "  test preparation course  math score  reading score  writing score  \n",
       "0               completed          67             67             63  \n",
       "1                    none          40             59             55  \n",
       "2                    none          59             60             50  \n",
       "3                    none          77             78             68  \n",
       "4               completed          78             73             68  "
      ]
     },
     "execution_count": 100,
     "metadata": {},
     "output_type": "execute_result"
    }
   ],
   "source": [
    "#look at the data\n",
    "exams.head()"
   ]
  },
  {
   "cell_type": "code",
   "execution_count": 42,
   "id": "a3a965e4",
   "metadata": {},
   "outputs": [],
   "source": [
    "#we will need this function a lot for the analysis. A quick function to output the average scores for each subject\n",
    "def getscores(df):\n",
    "    math = df['math score'].mean()\n",
    "    reading = df['reading score'].mean()\n",
    "    writing = df['writing score'].mean()\n",
    "    \n",
    "    scores = [math, reading, writing]\n",
    "    \n",
    "    return scores"
   ]
  },
  {
   "cell_type": "code",
   "execution_count": 43,
   "id": "f6b93e21",
   "metadata": {},
   "outputs": [],
   "source": [
    "#get average scores for the entire dataset\n",
    "scores = getscores(exams)"
   ]
  },
  {
   "cell_type": "code",
   "execution_count": 44,
   "id": "abc0da78",
   "metadata": {},
   "outputs": [
    {
     "data": {
      "image/png": "[encoded data removed]",
      "text/plain": [
       "<Figure size 432x288 with 1 Axes>"
      ]
     },
     "metadata": {
      "needs_background": "light"
     },
     "output_type": "display_data"
    }
   ],
   "source": [
    "#plot the average scores\n",
    "X = ['Math', 'Reading', 'Writing']\n",
    "X_axis = np.arange(len(X))\n",
    "\n",
    "plt.bar(X_axis, scores, 0.4,)\n",
    "\n",
    "plt.xticks(X_axis, X)\n",
    "plt.xlabel('Subject')\n",
    "plt.ylabel('Score')\n",
    "plt.ylim(55)\n",
    "plt.title('Test Scores')\n",
    "plt.show()"
   ]
  },
  {
   "cell_type": "markdown",
   "id": "857956e2",
   "metadata": {},
   "source": [
    "## Prep vs Unprep:\n",
    "\n",
    "This section of the analysis focuses on the differences between the students who completed a test preparation course and the students who did not complete said course. "
   ]
  },
  {
   "cell_type": "code",
   "execution_count": 46,
   "id": "d847179b",
   "metadata": {},
   "outputs": [],
   "source": [
    "#Filter the data for prep vs nonprep\n",
    "prep = exams[(exams['test preparation course'] == 'completed')]\n",
    "nonprep = exams[(exams['test preparation course'] != 'completed')]"
   ]
  },
  {
   "cell_type": "code",
   "execution_count": 47,
   "id": "5a80fd26",
   "metadata": {},
   "outputs": [],
   "source": [
    "#Calculate average scores for prep\n",
    "prepscores = getscores(prep)\n",
    "nonprepscores = getscores(nonprep)"
   ]
  },
  {
   "cell_type": "code",
   "execution_count": 101,
   "id": "d7181cd8",
   "metadata": {},
   "outputs": [
    {
     "data": {
      "image/png": "[encoded data removed]",
      "text/plain": [
       "<Figure size 432x288 with 1 Axes>"
      ]
     },
     "metadata": {
      "needs_background": "light"
     },
     "output_type": "display_data"
    }
   ],
   "source": [
    "#plot the scores for prep vs nonprep\n",
    "plt.bar(X_axis - 0.2, prepscores, 0.4, label = 'Prepped')\n",
    "plt.bar(X_axis + 0.2, nonprepscores, 0.4, label =\"Didn't Prep\")\n",
    "\n",
    "plt.xticks(X_axis, X)\n",
    "plt.xlabel('Subject')\n",
    "plt.ylabel('Score')\n",
    "plt.ylim(40)\n",
    "plt.title('Test Scores')\n",
    "plt.legend()\n",
    "plt.show()\n",
    "\n"
   ]
  },
  {
   "cell_type": "code",
   "execution_count": 75,
   "id": "adaabd36",
   "metadata": {},
   "outputs": [
    {
     "name": "stdout",
     "output_type": "stream",
     "text": [
      "Preparing for the math portion of the test resulted in a 7.1 % increase in score.\n",
      "Preparing for the reading portion of the test resulted in a 10.33 % increase in score.\n",
      "Preparing for the writing portion of the test resulted in a 13.96 % increase in score.\n"
     ]
    }
   ],
   "source": [
    "#calculate the relative difference between prep and nonprep\n",
    "diff = list()\n",
    "\n",
    "for i, j in zip(prepscores,nonprepscores):\n",
    "    diff.append((i-j)/i)\n",
    "    \n",
    "print(\"Preparing for the math portion of the test resulted in a\", round(100*diff[0],2),\"% increase in score.\")\n",
    "print(\"Preparing for the reading portion of the test resulted in a\", round(100*diff[1],2),\"% increase in score.\")\n",
    "print(\"Preparing for the writing portion of the test resulted in a\", round(100*diff[2],2),\"% increase in score.\")"
   ]
  },
  {
   "cell_type": "markdown",
   "id": "d91f9dd1",
   "metadata": {},
   "source": [
    "#### Note: \n",
    "Preparing for these standardized tests is measurably beneficial versus not practicing. This is common sense but it is good to see the data reflect it. "
   ]
  },
  {
   "cell_type": "markdown",
   "id": "483a852f",
   "metadata": {},
   "source": [
    "## Lunch Status:\n",
    "\n",
    "This section of the analysis looks at the difference between the group of students who receive free or reduced lunch, versus the students receive on benefit, or have the standard lunch option. "
   ]
  },
  {
   "cell_type": "code",
   "execution_count": 49,
   "id": "e2d671b2",
   "metadata": {},
   "outputs": [],
   "source": [
    "#difference between lunch status"
   ]
  },
  {
   "cell_type": "code",
   "execution_count": 50,
   "id": "77007a00",
   "metadata": {},
   "outputs": [],
   "source": [
    "#query data for lunch status\n",
    "freelunch = exams[(exams['lunch'] != 'standard')]\n",
    "standardlunch = exams[(exams['lunch'] == 'standard')]"
   ]
  },
  {
   "cell_type": "code",
   "execution_count": 51,
   "id": "ae40bd90",
   "metadata": {},
   "outputs": [],
   "source": [
    "#get scores for each group\n",
    "freelunchscores = getscores(freelunch)\n",
    "standardlunchscores = getscores(standardlunch)"
   ]
  },
  {
   "cell_type": "code",
   "execution_count": 52,
   "id": "c060c0a7",
   "metadata": {},
   "outputs": [
    {
     "data": {
      "image/png": "[encoded data removed]",
      "text/plain": [
       "<Figure size 432x288 with 1 Axes>"
      ]
     },
     "metadata": {
      "needs_background": "light"
     },
     "output_type": "display_data"
    }
   ],
   "source": [
    "#plot the differences between the lunch status\n",
    "plt.bar(X_axis - 0.2, freelunchscores, 0.4, label = 'Free Lunch')\n",
    "plt.bar(X_axis + 0.2, standardlunchscores, 0.4, label =\"Standard Lunch\")\n",
    "\n",
    "plt.xticks(X_axis, X)\n",
    "plt.xlabel('Subject')\n",
    "plt.ylabel('Score')\n",
    "plt.title('Test Scores')\n",
    "plt.ylim(30)\n",
    "plt.legend()\n",
    "plt.show()"
   ]
  },
  {
   "cell_type": "code",
   "execution_count": 80,
   "id": "4767fdd8",
   "metadata": {},
   "outputs": [
    {
     "name": "stdout",
     "output_type": "stream",
     "text": [
      "Standard lunch students scored  17.14 % better than free lunch students on the math portion.\n",
      "Standard lunch students scored  12.36 % better than free lunch students on the reading portion.\n",
      "Standard lunch students scored  14.64 % better than free lunch students on the writing portion.\n"
     ]
    }
   ],
   "source": [
    "diff = list()\n",
    "\n",
    "for i, j in zip(standardlunchscores,freelunchscores):\n",
    "    diff.append((i-j)/i)\n",
    "    \n",
    "print(\"Standard lunch students scored \", abs(round(100*diff[0],2)),\"% better than free lunch students on the math portion.\")\n",
    "print(\"Standard lunch students scored \", abs(round(100*diff[1],2)),\"% better than free lunch students on the reading portion.\")\n",
    "print(\"Standard lunch students scored \", abs(round(100*diff[2],2)),\"% better than free lunch students on the writing portion.\")"
   ]
  },
  {
   "cell_type": "markdown",
   "id": "61286a19",
   "metadata": {},
   "source": [
    "#### Note: \n",
    "Overall, the standard lunch group score much better on the tests than their free/reduced lunch counterparts. This is an interesting outcome, because this is gauging economic conditions and their outcomes on test scores. So, by extenstion, it seems that lower income students tend to do worse, on average, than their classmates. A possible cause for the difference may be that free lunch recepients may not take a test prep course at the same rates as the students that have standard lunch. Further analysis is needed."
   ]
  },
  {
   "cell_type": "code",
   "execution_count": 116,
   "id": "cc14c57d",
   "metadata": {},
   "outputs": [
    {
     "data": {
      "text/plain": [
       "Text(0.5, 1.0, 'Test Prep for All Students')"
      ]
     },
     "execution_count": 116,
     "metadata": {},
     "output_type": "execute_result"
    },
    {
     "data": {
      "image/png": "[encoded data removed]",
      "text/plain": [
       "<Figure size 432x288 with 1 Axes>"
      ]
     },
     "metadata": {},
     "output_type": "display_data"
    }
   ],
   "source": [
    "test = exams.groupby('test preparation course')['test preparation course'].count()\n",
    "test.plot.pie()\n",
    "plt.title('Test Prep for All Students')"
   ]
  },
  {
   "cell_type": "code",
   "execution_count": 117,
   "id": "2ff6aa95",
   "metadata": {},
   "outputs": [
    {
     "data": {
      "text/plain": [
       "Text(0.5, 1.0, 'Test Prep for Students with Free Lunch')"
      ]
     },
     "execution_count": 117,
     "metadata": {},
     "output_type": "execute_result"
    },
    {
     "data": {
      "image/png": "[encoded data removed]",
      "text/plain": [
       "<Figure size 432x288 with 1 Axes>"
      ]
     },
     "metadata": {},
     "output_type": "display_data"
    }
   ],
   "source": [
    "test1 = freelunch.groupby('test preparation course')['test preparation course'].count()\n",
    "test1.plot.pie()\n",
    "plt.title('Test Prep for Students with Free Lunch')"
   ]
  },
  {
   "cell_type": "code",
   "execution_count": 118,
   "id": "fcc19c89",
   "metadata": {},
   "outputs": [
    {
     "data": {
      "text/plain": [
       "Text(0.5, 1.0, 'Test Prep for Students with Standard Lunch')"
      ]
     },
     "execution_count": 118,
     "metadata": {},
     "output_type": "execute_result"
    },
    {
     "data": {
      "image/png": "[encoded data removed]",
      "text/plain": [
       "<Figure size 432x288 with 1 Axes>"
      ]
     },
     "metadata": {},
     "output_type": "display_data"
    }
   ],
   "source": [
    "test2 = standardlunch.groupby('test preparation course')['test preparation course'].count()\n",
    "test2.plot.pie()\n",
    "plt.title('Test Prep for Students with Standard Lunch')"
   ]
  },
  {
   "cell_type": "markdown",
   "id": "f806ee9f",
   "metadata": {},
   "source": [
    "#### Note:\n",
    "\n",
    "A quick glance at each pie chart shows that the completion of a test prep course is fairly uniform between the different lunch statuses. Test prep status isn't driving the differences between the groups."
   ]
  },
  {
   "cell_type": "markdown",
   "id": "0f6c47ba",
   "metadata": {},
   "source": [
    "## Male vs Female\n",
    "\n",
    "This section of the analysis focuses on the difference in test scores between male students and female students."
   ]
  },
  {
   "cell_type": "code",
   "execution_count": 53,
   "id": "1b4c2f3b",
   "metadata": {},
   "outputs": [],
   "source": [
    "#male vs female"
   ]
  },
  {
   "cell_type": "code",
   "execution_count": 54,
   "id": "a4a354aa",
   "metadata": {},
   "outputs": [],
   "source": [
    "#query the data for male and female students\n",
    "male = exams[(exams['gender'] == 'male')]\n",
    "female = exams[(exams['gender'] == 'female')]"
   ]
  },
  {
   "cell_type": "code",
   "execution_count": 55,
   "id": "bc2b4ad1",
   "metadata": {},
   "outputs": [],
   "source": [
    "#get scores for male and female students\n",
    "malescores = getscores(male)\n",
    "femalescores = getscores(female)"
   ]
  },
  {
   "cell_type": "code",
   "execution_count": 56,
   "id": "e4dce102",
   "metadata": {},
   "outputs": [
    {
     "data": {
      "image/png": "[encoded data removed]",
      "text/plain": [
       "<Figure size 432x288 with 1 Axes>"
      ]
     },
     "metadata": {
      "needs_background": "light"
     },
     "output_type": "display_data"
    }
   ],
   "source": [
    "#plot the difference between male and female students\n",
    "plt.bar(X_axis - 0.2, malescores, 0.4, label = 'Male')\n",
    "plt.bar(X_axis + 0.2, femalescores, 0.4, label =\"Female\")\n",
    "\n",
    "plt.xticks(X_axis, X)\n",
    "plt.xlabel('Subject')\n",
    "plt.ylabel('Score')\n",
    "plt.ylim(30)\n",
    "plt.title('Test Scores')\n",
    "plt.legend()\n",
    "plt.show()"
   ]
  },
  {
   "cell_type": "code",
   "execution_count": 78,
   "id": "697eb11f",
   "metadata": {},
   "outputs": [
    {
     "name": "stdout",
     "output_type": "stream",
     "text": [
      "Men scored  8.92 % better than women on the math portion.\n",
      "Women scored  8.42 % better than men on the reading portion.\n",
      "Women scored  11.99 % better than men on the writing portion.\n"
     ]
    }
   ],
   "source": [
    "#calculate the relative difference between male and female students\n",
    "diff = list()\n",
    "\n",
    "for i, j in zip(malescores,femalescores):\n",
    "    diff.append((i-j)/i)\n",
    "    \n",
    "print(\"Men scored \", abs(round(100*diff[0],2)),\"% better than women on the math portion.\")\n",
    "print(\"Women scored \", abs(round(100*diff[1],2)),\"% better than men on the reading portion.\")\n",
    "print(\"Women scored \", abs(round(100*diff[2],2)),\"% better than men on the writing portion.\")"
   ]
  },
  {
   "cell_type": "markdown",
   "id": "2d984406",
   "metadata": {},
   "source": [
    "#### Note: \n",
    "On average, men scored better on the math portion, while women scored better on the reading and writing portions of the test.\n",
    "This seems to reflect common knowledge, or at least, from my experience (being a man, and someone who studied mathematics in university)."
   ]
  },
  {
   "cell_type": "markdown",
   "id": "54e7069f",
   "metadata": {},
   "source": [
    "## Parental Level of Education:\n",
    "\n",
    "This section of the analysis focuses on the education level of students' parents."
   ]
  },
  {
   "cell_type": "code",
   "execution_count": 58,
   "id": "126b8780",
   "metadata": {},
   "outputs": [
    {
     "data": {
      "text/plain": [
       "array(['high school', 'some high school', 'some college',\n",
       "       \"associate's degree\", \"bachelor's degree\", \"master's degree\"],\n",
       "      dtype=object)"
      ]
     },
     "execution_count": 58,
     "metadata": {},
     "output_type": "execute_result"
    }
   ],
   "source": [
    "#show the different levels of education recorded\n",
    "exams['parental level of education'].unique()"
   ]
  },
  {
   "cell_type": "code",
   "execution_count": 59,
   "id": "59b848c1",
   "metadata": {},
   "outputs": [],
   "source": [
    "#query the data for each unique level of education\n",
    "hs = exams[(exams['parental level of education'] == 'high school')]\n",
    "some_hs = exams[(exams['parental level of education'] == 'some high school')]\n",
    "some_col = exams[(exams['parental level of education'] == 'some college')]\n",
    "assoc = exams[(exams['parental level of education'] == \"associate's degree\")]\n",
    "bach = exams[(exams['parental level of education'] == \"bachelor's degree\")]\n",
    "mast = exams[(exams['parental level of education'] == \"master's degree\")]"
   ]
  },
  {
   "cell_type": "code",
   "execution_count": 60,
   "id": "b1ba7362",
   "metadata": {},
   "outputs": [],
   "source": [
    "#get scores for each level of education\n",
    "hs_scores = getscores(hs)\n",
    "some_hs_scores = getscores(some_hs)\n",
    "some_col_scores = getscores(some_col)\n",
    "assoc_scores = getscores(assoc)\n",
    "bach_scores = getscores(bach)\n",
    "mast_scors = getscores(mast)"
   ]
  },
  {
   "cell_type": "code",
   "execution_count": 93,
   "id": "c6212b64",
   "metadata": {},
   "outputs": [
    {
     "data": {
      "image/png": "[encoded data removed]",
      "text/plain": [
       "<Figure size 432x288 with 1 Axes>"
      ]
     },
     "metadata": {
      "needs_background": "light"
     },
     "output_type": "display_data"
    },
    {
     "data": {
      "text/plain": [
       "<Figure size 1800x1080 with 0 Axes>"
      ]
     },
     "metadata": {},
     "output_type": "display_data"
    }
   ],
   "source": [
    "#plot the scores for each level of education\n",
    "plt.bar(X_axis - 0.2, some_hs_scores, 0.1, label = 'Some High School')\n",
    "plt.bar(X_axis - 0.1, hs_scores, 0.1, label =\"High School\")\n",
    "plt.bar(X_axis, some_col_scores, 0.1, label = 'Some College')\n",
    "plt.bar(X_axis + 0.1, assoc_scores, 0.1, label =\"Associate's Degree\")\n",
    "plt.bar(X_axis + 0.2, bach_scores, 0.1, label = \"Bachelor's Degree\")\n",
    "plt.bar(X_axis + .3, mast_scors, 0.1, label = \"Master's Degree\")\n",
    "\n",
    "\n",
    "plt.xticks(X_axis, X)\n",
    "plt.xlabel('Subject')\n",
    "plt.ylabel('Score')\n",
    "plt.ylim(30)\n",
    "plt.title('Test Scores')\n",
    "plt.legend()\n",
    "plt.show()\n",
    "\n",
    "f = plt.figure()\n",
    "f.set_figwidth(20)\n",
    "f.set_figheight(10)"
   ]
  },
  {
   "cell_type": "code",
   "execution_count": 91,
   "id": "f0b21a1e",
   "metadata": {},
   "outputs": [
    {
     "name": "stdout",
     "output_type": "stream",
     "text": [
      "Students with parents that completed:  high school. Scored -1.82 %, relative to the average on the math portion.\n",
      "Students with parents that completed:  high school. Scored -2.38 %, relative to the average on the reading portion.\n",
      "Students with parents that completed:  high school. Scored -4.46 %, relative to the average on the writing portion.\n",
      "\n",
      "Students with parents that completed:  some high school. Scored -9.38 %, relative to the average on the math portion.\n",
      "Students with parents that completed:  some high school. Scored -7.13 %, relative to the average on the reading portion.\n",
      "Students with parents that completed:  some high school. Scored -8.31 %, relative to the average on the writing portion.\n",
      "\n",
      "Students with parents that completed:  some college. Scored -1.68 %, relative to the average on the math portion.\n",
      "Students with parents that completed:  some college. Scored -1.41 %, relative to the average on the reading portion.\n",
      "Students with parents that completed:  some college. Scored -1.5 %, relative to the average on the writing portion.\n",
      "\n",
      "Students with parents that completed:  associate's degree. Scored 4.52 %, relative to the average on the math portion.\n",
      "Students with parents that completed:  associate's degree. Scored 2.79 %, relative to the average on the reading portion.\n",
      "Students with parents that completed:  associate's degree. Scored 3.39 %, relative to the average on the writing portion.\n",
      "\n",
      "Students with parents that completed:  bachelor's degree. Scored 7.13 %, relative to the average on the math portion.\n",
      "Students with parents that completed:  bachelor's degree. Scored 6.77 %, relative to the average on the reading portion.\n",
      "Students with parents that completed:  bachelor's degree. Scored 8.97 %, relative to the average on the writing portion.\n",
      "\n",
      "Students with parents that completed:  master's degree. Scored 7.25 %, relative to the average on the math portion.\n",
      "Students with parents that completed:  master's degree. Scored 8.52 %, relative to the average on the reading portion.\n",
      "Students with parents that completed:  master's degree. Scored 10.74 %, relative to the average on the writing portion.\n",
      "\n"
     ]
    }
   ],
   "source": [
    "#calculate the relative difference from the average scores for each education level\n",
    "educationscores = [hs_scores,some_hs_scores,some_col_scores,assoc_scores,bach_scores, mast_scors]\n",
    "educationnames = list(exams['parental level of education'].unique())\n",
    "for score, name in zip(educationscores, educationnames):\n",
    "    diff = list()\n",
    "    for i, j in zip(score,scores):\n",
    "        diff.append((i-j)/i)\n",
    "    \n",
    "    print(\"Students with parents that completed: \",name +'.',\"Scored\", round(100*diff[0],2),\"%, relative to the average on the math portion.\")\n",
    "    print(\"Students with parents that completed: \",name+'.',\"Scored\", round(100*diff[1],2),\"%, relative to the average on the reading portion.\")\n",
    "    print(\"Students with parents that completed: \",name+'.',\"Scored\", round(100*diff[2],2),\"%, relative to the average on the writing portion.\")\n",
    "    print('')"
   ]
  },
  {
   "cell_type": "markdown",
   "id": "a53ee280",
   "metadata": {},
   "source": [
    "#### Note: \n",
    "The common trend associated with parental education level is: The more educated the parents, the better the kids score on standardized tests.\n",
    "\n",
    "Possible explanations may be that more educated families value studying for tests more, causing a higher rate of test preparation, better study habits, etc.\n",
    "Or simply, the more educated the parents are, the smarted the children are, on average.\n",
    "\n",
    "The largest difference is associated with the writing section of the test. Graduate degrees require proficieny in writing, so these skills may translate from parents to children. "
   ]
  },
  {
   "cell_type": "code",
   "execution_count": 121,
   "id": "f7a5a353",
   "metadata": {},
   "outputs": [
    {
     "data": {
      "text/plain": [
       "Text(0.5, 1.0, 'Test Prep for All Students')"
      ]
     },
     "execution_count": 121,
     "metadata": {},
     "output_type": "execute_result"
    },
    {
     "data": {
      "image/png": "[encoded data removed]",
      "text/plain": [
       "<Figure size 432x288 with 1 Axes>"
      ]
     },
     "metadata": {},
     "output_type": "display_data"
    }
   ],
   "source": [
    "eduplot1 = hs.groupby('test preparation course')['test preparation course'].count()\n",
    "eduplot1.plot.pie()\n",
    "plt.title('Test Prep for All Students')"
   ]
  },
  {
   "cell_type": "code",
   "execution_count": 122,
   "id": "e9ba51d2",
   "metadata": {},
   "outputs": [
    {
     "data": {
      "text/plain": [
       "Text(0.5, 1.0, 'Test Prep for All Students')"
      ]
     },
     "execution_count": 122,
     "metadata": {},
     "output_type": "execute_result"
    },
    {
     "data": {
      "image/png": "[encoded data removed]",
      "text/plain": [
       "<Figure size 432x288 with 1 Axes>"
      ]
     },
     "metadata": {},
     "output_type": "display_data"
    }
   ],
   "source": [
    "eduplot2 = some_hs.groupby('test preparation course')['test preparation course'].count()\n",
    "eduplot2.plot.pie()\n",
    "plt.title('Test Prep for All Students')"
   ]
  },
  {
   "cell_type": "code",
   "execution_count": 123,
   "id": "64da43da",
   "metadata": {},
   "outputs": [
    {
     "data": {
      "text/plain": [
       "Text(0.5, 1.0, 'Test Prep for All Students')"
      ]
     },
     "execution_count": 123,
     "metadata": {},
     "output_type": "execute_result"
    },
    {
     "data": {
      "image/png": "[encoded data removed]",
      "text/plain": [
       "<Figure size 432x288 with 1 Axes>"
      ]
     },
     "metadata": {},
     "output_type": "display_data"
    }
   ],
   "source": [
    "eduplot3 = some_col.groupby('test preparation course')['test preparation course'].count()\n",
    "eduplot3.plot.pie()\n",
    "plt.title('Test Prep for All Students')"
   ]
  },
  {
   "cell_type": "code",
   "execution_count": 124,
   "id": "45705803",
   "metadata": {},
   "outputs": [
    {
     "data": {
      "text/plain": [
       "Text(0.5, 1.0, 'Test Prep for All Students')"
      ]
     },
     "execution_count": 124,
     "metadata": {},
     "output_type": "execute_result"
    },
    {
     "data": {
      "image/png": "[encoded data removed]",
      "text/plain": [
       "<Figure size 432x288 with 1 Axes>"
      ]
     },
     "metadata": {},
     "output_type": "display_data"
    }
   ],
   "source": [
    "eduplot4 = assoc.groupby('test preparation course')['test preparation course'].count()\n",
    "eduplot4.plot.pie()\n",
    "plt.title('Test Prep for All Students')"
   ]
  },
  {
   "cell_type": "code",
   "execution_count": 127,
   "id": "51410795",
   "metadata": {},
   "outputs": [
    {
     "data": {
      "text/plain": [
       "Text(0.5, 1.0, 'Test Prep for All Students')"
      ]
     },
     "execution_count": 127,
     "metadata": {},
     "output_type": "execute_result"
    },
    {
     "data": {
      "image/png": "[encoded data removed]",
      "text/plain": [
       "<Figure size 432x288 with 1 Axes>"
      ]
     },
     "metadata": {},
     "output_type": "display_data"
    }
   ],
   "source": [
    "eduplot5 = bach.groupby('test preparation course')['test preparation course'].count()\n",
    "eduplot5.plot.pie()\n",
    "plt.title('Test Prep for All Students')"
   ]
  },
  {
   "cell_type": "code",
   "execution_count": 129,
   "id": "0f04324b",
   "metadata": {},
   "outputs": [
    {
     "data": {
      "text/plain": [
       "Text(0.5, 1.0, \"'Test Prep Rates of Masters'\")"
      ]
     },
     "execution_count": 129,
     "metadata": {},
     "output_type": "execute_result"
    },
    {
     "data": {
      "image/png": "[encoded data removed]",
      "text/plain": [
       "<Figure size 432x288 with 1 Axes>"
      ]
     },
     "metadata": {},
     "output_type": "display_data"
    }
   ],
   "source": [
    "eduplot6 = mast.groupby('test preparation course')['test preparation course'].count()\n",
    "eduplot6.plot.pie()\n",
    "plt.title(\"'Test Prep Rates of Masters'\")"
   ]
  },
  {
   "cell_type": "markdown",
   "id": "8c6c74bb",
   "metadata": {},
   "source": [
    "#### Note:\n",
    "\n",
    "The proportion of students who test prepped was the worst with the students who's parents have Masters' Degrees. This is very suprising, I would expect that the higher the education level of the parents, the more those students are taking prep courses. \n",
    "\n",
    "Test prep status seems to have little effect, if you determine the parents education level first."
   ]
  },
  {
   "cell_type": "markdown",
   "id": "032d1c1d",
   "metadata": {},
   "source": [
    "## Ethnic Group:\n",
    "\n",
    "This section of the analysis focuses on the difference between ethnic groups. The ethnic groups were anonymized (for good reason), so each unique ethnic group is label with a letter. "
   ]
  },
  {
   "cell_type": "code",
   "execution_count": 63,
   "id": "259adb94",
   "metadata": {},
   "outputs": [
    {
     "data": {
      "text/plain": [
       "array(['group A', 'group D', 'group E', 'group B', 'group C'],\n",
       "      dtype=object)"
      ]
     },
     "execution_count": 63,
     "metadata": {},
     "output_type": "execute_result"
    }
   ],
   "source": [
    "#show each unique ethnic group recorded\n",
    "exams['race/ethnicity'].unique()"
   ]
  },
  {
   "cell_type": "code",
   "execution_count": 64,
   "id": "0493642c",
   "metadata": {},
   "outputs": [],
   "source": [
    "#query data for each ethnic group\n",
    "groupA = exams[(exams['race/ethnicity'] == 'group A')]\n",
    "groupB = exams[(exams['race/ethnicity'] == 'group B')]\n",
    "groupC = exams[(exams['race/ethnicity'] == 'group C')]\n",
    "groupD = exams[(exams['race/ethnicity'] == 'group D')]\n",
    "groupE = exams[(exams['race/ethnicity'] == 'group E')]"
   ]
  },
  {
   "cell_type": "code",
   "execution_count": 65,
   "id": "c934569e",
   "metadata": {},
   "outputs": [],
   "source": [
    "#get scores for each group\n",
    "groupA_scores = getscores(groupA)\n",
    "groupB_scores = getscores(groupB)\n",
    "groupC_scores = getscores(groupC)\n",
    "groupD_scores = getscores(groupD)\n",
    "groupE_scores = getscores(groupE)"
   ]
  },
  {
   "cell_type": "code",
   "execution_count": 97,
   "id": "107f46ee",
   "metadata": {},
   "outputs": [
    {
     "data": {
      "image/png": "[encoded data removed]",
      "text/plain": [
       "<Figure size 432x288 with 1 Axes>"
      ]
     },
     "metadata": {
      "needs_background": "light"
     },
     "output_type": "display_data"
    },
    {
     "data": {
      "text/plain": [
       "<Figure size 1440x720 with 0 Axes>"
      ]
     },
     "metadata": {},
     "output_type": "display_data"
    }
   ],
   "source": [
    "#plot scores for each group\n",
    "plt.bar(X_axis - 0.2, groupA_scores, 0.1, label = 'Group A')\n",
    "plt.bar(X_axis - 0.1, groupB_scores, 0.1, label =\"Group B\")\n",
    "plt.bar(X_axis, groupC_scores, 0.1, label = 'Group C')\n",
    "plt.bar(X_axis + 0.1, groupD_scores, 0.1, label =\"Group D\")\n",
    "plt.bar(X_axis + 0.2, groupE_scores, 0.1, label = \"Group E\")\n",
    "\n",
    "\n",
    "plt.xticks(X_axis, X)\n",
    "plt.xlabel('Subject')\n",
    "plt.ylabel('Score')\n",
    "plt.title('Test Scores')\n",
    "plt.ylim(30)\n",
    "plt.legend()\n",
    "plt.show()\n",
    "\n",
    "f = plt.figure()\n",
    "f.set_figwidth(20)\n",
    "f.set_figheight(10)"
   ]
  },
  {
   "cell_type": "code",
   "execution_count": 83,
   "id": "5b471163",
   "metadata": {
    "scrolled": true
   },
   "outputs": [
    {
     "name": "stdout",
     "output_type": "stream",
     "text": [
      "Group A preformed -1.81 %, relative to the average on the math portion.\n",
      "Group A preformed -0.65 %, relative to the average on the reading portion.\n",
      "Group A preformed -1.14 %, relative to the average on the writing portion.\n",
      "\n",
      "Group B preformed -5.11 %, relative to the average on the math portion.\n",
      "Group B preformed -2.83 %, relative to the average on the reading portion.\n",
      "Group B preformed -3.04 %, relative to the average on the writing portion.\n",
      "\n",
      "Group C preformed -5.17 %, relative to the average on the math portion.\n",
      "Group C preformed -3.94 %, relative to the average on the reading portion.\n",
      "Group C preformed -4.98 %, relative to the average on the writing portion.\n",
      "\n",
      "Group D preformed 4.15 %, relative to the average on the math portion.\n",
      "Group D preformed 4.28 %, relative to the average on the reading portion.\n",
      "Group D preformed 6.26 %, relative to the average on the writing portion.\n",
      "\n",
      "Group E preformed 10.84 %, relative to the average on the math portion.\n",
      "Group E preformed 4.86 %, relative to the average on the reading portion.\n",
      "Group E preformed 3.53 %, relative to the average on the writing portion.\n",
      "\n"
     ]
    }
   ],
   "source": [
    "#Calculate the difference in scores for each ethnic group relative to the average scores\n",
    "groupscores = [groupA_scores,groupB_scores,groupC_scores,groupD_scores,groupE_scores]\n",
    "groupnames =['Group A', 'Group B','Group C','Group D','Group E']\n",
    "for score, name in zip(groupscores, groupnames):\n",
    "    diff = list()\n",
    "    for i, j in zip(score,scores):\n",
    "        diff.append((i-j)/i)\n",
    "    \n",
    "    print(name,\"preformed\", round(100*diff[0],2),\"%, relative to the average on the math portion.\")\n",
    "    print(name,\"preformed\", round(100*diff[1],2),\"%, relative to the average on the reading portion.\")\n",
    "    print(name,\"preformed\", round(100*diff[2],2),\"%, relative to the average on the writing portion.\")\n",
    "    print('')"
   ]
  },
  {
   "cell_type": "markdown",
   "id": "7efd3938",
   "metadata": {},
   "source": [
    "#### Note: \n",
    "Overall, Group C preformed the worst on the three tests, and Group E preformed the best.\n",
    "Group D is a close second, right behind Group E, for best test scores. \n",
    "Group A preformed slightly worse than average, while Group B preformed slightly better than the worst group, Group C. "
   ]
  },
  {
   "cell_type": "markdown",
   "id": "f2b0d23a",
   "metadata": {},
   "source": [
    "# Conclusion\n",
    "\n",
    "The metric with the largest discrepancy is the lunch status of the student. The average increase in score between receiving free lunch versus the standard plan was 15.07%. That is substantial, about one standard deviation increase in score.  \n",
    "The next largest discrepancy was between test prepping, which on average, increased your score by around 10.5 %.\n",
    "Another factor that had impact was parental education level, which showed a large difference in performance for students whose  parents completed some high school and students whose parents earned a Masters' Degree.\n",
    "\n",
    "For the most part, the difference between each factor is relatively small. \n",
    "\n",
    "The factors listed above are the ones that make the largest impact on test performance. More factors are necessary for a more in-depth analysis of student performance."
   ]
  },
  {
   "cell_type": "code",
   "execution_count": null,
   "id": "8c9b48e0",
   "metadata": {},
   "outputs": [],
   "source": []
  }
 ],
 "metadata": {
  "kernelspec": {
   "display_name": "Python 3 (ipykernel)",
   "language": "python",
   "name": "python3"
  },
  "language_info": {
   "codemirror_mode": {
    "name": "ipython",
    "version": 3
   },
   "file_extension": ".py",
   "mimetype": "text/x-python",
   "name": "python",
   "nbconvert_exporter": "python",
   "pygments_lexer": "ipython3",
   "version": "3.9.12"
  }
 },
 "nbformat": 4,
 "nbformat_minor": 5
}
